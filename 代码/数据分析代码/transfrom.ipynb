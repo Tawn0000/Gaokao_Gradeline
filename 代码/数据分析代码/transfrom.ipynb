{
 "cells": [
  {
   "cell_type": "code",
   "execution_count": 63,
   "metadata": {},
   "outputs": [],
   "source": [
    "import pymongo\n",
    "import json\n",
    "\n",
    "class Transform:\n",
    "    def __init__(self):\n",
    "        self.MONGO_URI = 'mongodb://127.0.0.1:27017'\n",
    "        self.client = pymongo.MongoClient(self.MONGO_URI)\n",
    "        self.database = self.client['test']\n",
    "        self.collection = self.database['gaokao_crawl_data']\n",
    "        \n",
    "    def write(self, st, num, file_path):\n",
    "        cur = self.collection.find().skip(st).limit(num)\n",
    "        with open(file_path.format(), \"w\") as f:\n",
    "            for item in cur:\n",
    "                del item['_id']\n",
    "                json.dump(item, f, ensure_ascii=False)\n",
    "                f.write('\\n')\n",
    "            print(\"{}条数据加载入{}文件完成...\".format(num, file_path))\n",
    "            \n",
    "    def read(self, file_path):\n",
    "        with open(file_path,'r') as load_f:\n",
    "            while True:\n",
    "                line = load_f.readline()\n",
    "                if line:\n",
    "                    r = json.loads(line)\n",
    "                    print(r)\n",
    "                else:\n",
    "                    break\n",
    "                    \n",
    "    def count(self):\n",
    "        print(collection.count())\n",
    "\n",
    "if __name__ == '__main__':\n",
    "    transform = Transform()\n",
    "#     transform.count()\n",
    "#     transform.read(\"json/record_1.json\")\n",
    "#     for i in range(0, 85):\n",
    "#         transform.write(i*10000, 10000, \"json/record_%03d.json\" % i)\n"
   ]
  },
  {
   "cell_type": "code",
   "execution_count": null,
   "metadata": {},
   "outputs": [],
   "source": [
    "import pymongo\n",
    "import json   \n",
    "import multiprocessing\n",
    "import sys\n",
    "\n",
    "def worker(st, num):\n",
    "    MONGO_URI = 'mongodb://127.0.0.1:27017'\n",
    "    client = pymongo.MongoClient(MONGO_URI)\n",
    "    database = client['test']\n",
    "    col1 = database['gaokao_crawl_data']\n",
    "    col2 = database['gaokao_crawl']\n",
    "    cur = col1.find().skip(st).limit(num)\n",
    "    for item in cur:\n",
    "        del item['_id']\n",
    "        raw_key = item['raw_key'] = item['year'] + item['area'] + item['college'] + item['major']\n",
    "        col2.update_many({'raw_key': raw_key}, {'$set': dict(item)}, upsert=True)\n",
    "    \n",
    "if __name__ == '__main__':\n",
    "    st = int(sys.argv[1])\n",
    "    ed = int(sys.argv[2])\n",
    "    process_num = int(sys.argv[3])\n",
    "    x = int((ed-st)/process_num)\n",
    "    for i in range(0, process_num):\n",
    "        multiprocessing.Process(target=worker, args=(st+x*i, x)).start()"
   ]
  },
  {
   "cell_type": "code",
   "execution_count": 3,
   "metadata": {},
   "outputs": [
    {
     "name": "stdout",
     "output_type": "stream",
     "text": [
      "10000条数据从json/record_080.json加载入MongoDB完成...\n",
      "10000条数据从json/record_081.json加载入MongoDB完成...\n",
      "10000条数据从json/record_082.json加载入MongoDB完成...\n"
     ]
    }
   ],
   "source": [
    "import pymongo\n",
    "import json   \n",
    "import multiprocessing\n",
    "import sys\n",
    "\n",
    "def worker(st, num):\n",
    "    MONGO_URI = 'mongodb://127.0.0.1:27017'\n",
    "    client = pymongo.MongoClient(MONGO_URI)\n",
    "    database = client['test']\n",
    "    collection = database['gaokao_crawl_data']\n",
    "    for i in range(st, st+num):\n",
    "        file_path = 'json/record_%03d.json' % i\n",
    "        with open(file_path,'r') as load_f:\n",
    "            while True:\n",
    "                line = load_f.readline()\n",
    "                if line:\n",
    "                    item = json.loads(line)\n",
    "                    raw_key = item['raw_key']\n",
    "                    collection.update_many({'raw_key': raw_key}, {'$set': dict(item)}, upsert=True)\n",
    "                else:\n",
    "                    break\n",
    "        print(\"{}条数据从{}加载入MongoDB完成...\".format(10000, file_path))\n",
    "                    \n",
    "if __name__ == '__main__':\n",
    "    st = 80\n",
    "    ed = 83\n",
    "    process_num = 1\n",
    "    x = int((ed-st)/process_num)\n",
    "    for i in range(0, process_num):\n",
    "        multiprocessing.Process(target=worker, args=(st+x*i, x)).start()"
   ]
  },
  {
   "cell_type": "code",
   "execution_count": null,
   "metadata": {},
   "outputs": [],
   "source": []
  },
  {
   "cell_type": "code",
   "execution_count": null,
   "metadata": {},
   "outputs": [],
   "source": []
  }
 ],
 "metadata": {
  "kernelspec": {
   "display_name": "Python 3",
   "language": "python",
   "name": "python3"
  },
  "language_info": {
   "codemirror_mode": {
    "name": "ipython",
    "version": 3
   },
   "file_extension": ".py",
   "mimetype": "text/x-python",
   "name": "python",
   "nbconvert_exporter": "python",
   "pygments_lexer": "ipython3",
   "version": "3.6.8"
  }
 },
 "nbformat": 4,
 "nbformat_minor": 2
}
